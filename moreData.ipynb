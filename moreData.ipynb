{
 "cells": [
  {
   "cell_type": "code",
   "execution_count": 1,
   "metadata": {},
   "outputs": [],
   "source": [
    "# Imports\n",
    "import numpy as np\n",
    "import pandas as pd\n",
    "import matplotlib.pyplot as plt\n",
    "\n",
    "# Initial Data\n",
    "penguins = pd.read_csv(\"penguins.csv\").dropna().reset_index().drop(columns=[\"Unnamed: 0\", \"index\"])\n",
    "\n",
    "# Helper Functions\n",
    "def scatterWithLine(xAxis, yAxis): \n",
    "    # Create Diagram\n",
    "    penguins.plot.scatter(x=xAxis, y=yAxis)\n",
    "\n",
    "    # Calculate and Add Linear Regression to Diagram\n",
    "    slope, intercept = np.polyfit(penguins[xAxis], penguins[yAxis], 1)\n",
    "    plt.plot(penguins[xAxis], slope * penguins[xAxis] + intercept)\n",
    "\n",
    "    # Add Correlation and Linear Regression to Legend\n",
    "    plt.plot([], [], \" \", label=\"Correlation: \" + str(round(penguins[[xAxis, yAxis]].corr().iloc[1, 0], 2)))\n",
    "    plt.plot([], [], \" \", label=\"Linear Regression: \" + str(round(slope, 2)) + \"x+\" + str(round(intercept, 2)))\n",
    "\n",
    "    # Add Labels\n",
    "    plt.xlabel(xAxis)\n",
    "    plt.ylabel(yAxis)\n",
    "\n",
    "    # Show Diagram\n",
    "    plt.legend()\n",
    "    plt.show()"
   ]
  },
  {
   "cell_type": "code",
   "execution_count": 2,
   "metadata": {},
   "outputs": [
    {
     "data": {
      "text/html": [
       "<div>\n",
       "<style scoped>\n",
       "    .dataframe tbody tr th:only-of-type {\n",
       "        vertical-align: middle;\n",
       "    }\n",
       "\n",
       "    .dataframe tbody tr th {\n",
       "        vertical-align: top;\n",
       "    }\n",
       "\n",
       "    .dataframe thead th {\n",
       "        text-align: right;\n",
       "    }\n",
       "</style>\n",
       "<table border=\"1\" class=\"dataframe\">\n",
       "  <thead>\n",
       "    <tr style=\"text-align: right;\">\n",
       "      <th></th>\n",
       "      <th></th>\n",
       "      <th>bill_length_mm</th>\n",
       "      <th>bill_depth_mm</th>\n",
       "      <th>flipper_length_mm</th>\n",
       "      <th>body_mass_g</th>\n",
       "    </tr>\n",
       "    <tr>\n",
       "      <th>species</th>\n",
       "      <th>sex</th>\n",
       "      <th></th>\n",
       "      <th></th>\n",
       "      <th></th>\n",
       "      <th></th>\n",
       "    </tr>\n",
       "  </thead>\n",
       "  <tbody>\n",
       "    <tr>\n",
       "      <th rowspan=\"2\" valign=\"top\">Adelie</th>\n",
       "      <th>female</th>\n",
       "      <td>37.26</td>\n",
       "      <td>17.62</td>\n",
       "      <td>187.79</td>\n",
       "      <td>3368.84</td>\n",
       "    </tr>\n",
       "    <tr>\n",
       "      <th>male</th>\n",
       "      <td>40.39</td>\n",
       "      <td>19.07</td>\n",
       "      <td>192.41</td>\n",
       "      <td>4043.49</td>\n",
       "    </tr>\n",
       "    <tr>\n",
       "      <th rowspan=\"2\" valign=\"top\">Chinstrap</th>\n",
       "      <th>female</th>\n",
       "      <td>46.57</td>\n",
       "      <td>17.59</td>\n",
       "      <td>191.74</td>\n",
       "      <td>3527.21</td>\n",
       "    </tr>\n",
       "    <tr>\n",
       "      <th>male</th>\n",
       "      <td>51.09</td>\n",
       "      <td>19.25</td>\n",
       "      <td>199.91</td>\n",
       "      <td>3938.97</td>\n",
       "    </tr>\n",
       "    <tr>\n",
       "      <th rowspan=\"2\" valign=\"top\">Gentoo</th>\n",
       "      <th>female</th>\n",
       "      <td>45.56</td>\n",
       "      <td>14.24</td>\n",
       "      <td>212.71</td>\n",
       "      <td>4679.74</td>\n",
       "    </tr>\n",
       "    <tr>\n",
       "      <th>male</th>\n",
       "      <td>49.47</td>\n",
       "      <td>15.72</td>\n",
       "      <td>221.54</td>\n",
       "      <td>5484.84</td>\n",
       "    </tr>\n",
       "  </tbody>\n",
       "</table>\n",
       "</div>"
      ],
      "text/plain": [
       "                  bill_length_mm  bill_depth_mm  flipper_length_mm  \\\n",
       "species   sex                                                        \n",
       "Adelie    female           37.26          17.62             187.79   \n",
       "          male             40.39          19.07             192.41   \n",
       "Chinstrap female           46.57          17.59             191.74   \n",
       "          male             51.09          19.25             199.91   \n",
       "Gentoo    female           45.56          14.24             212.71   \n",
       "          male             49.47          15.72             221.54   \n",
       "\n",
       "                  body_mass_g  \n",
       "species   sex                  \n",
       "Adelie    female      3368.84  \n",
       "          male        4043.49  \n",
       "Chinstrap female      3527.21  \n",
       "          male        3938.97  \n",
       "Gentoo    female      4679.74  \n",
       "          male        5484.84  "
      ]
     },
     "execution_count": 2,
     "metadata": {},
     "output_type": "execute_result"
    }
   ],
   "source": [
    "# 1. Weibliche Pinguine haben durchschnittlich niedrigere Merkmalsausprägungen als ihre männlichen Artgenossen.\n",
    "penguins.groupby([\"species\", \"sex\"]).mean().round(2).iloc[:, 0:4]"
   ]
  },
  {
   "cell_type": "code",
   "execution_count": 3,
   "metadata": {},
   "outputs": [
    {
     "data": {
      "text/html": [
       "<div>\n",
       "<style scoped>\n",
       "    .dataframe tbody tr th:only-of-type {\n",
       "        vertical-align: middle;\n",
       "    }\n",
       "\n",
       "    .dataframe tbody tr th {\n",
       "        vertical-align: top;\n",
       "    }\n",
       "\n",
       "    .dataframe thead th {\n",
       "        text-align: right;\n",
       "    }\n",
       "</style>\n",
       "<table border=\"1\" class=\"dataframe\">\n",
       "  <thead>\n",
       "    <tr style=\"text-align: right;\">\n",
       "      <th></th>\n",
       "      <th></th>\n",
       "      <th>bill_length_mm</th>\n",
       "      <th>bill_depth_mm</th>\n",
       "      <th>flipper_length_mm</th>\n",
       "      <th>body_mass_g</th>\n",
       "    </tr>\n",
       "    <tr>\n",
       "      <th>species</th>\n",
       "      <th>island</th>\n",
       "      <th></th>\n",
       "      <th></th>\n",
       "      <th></th>\n",
       "      <th></th>\n",
       "    </tr>\n",
       "  </thead>\n",
       "  <tbody>\n",
       "    <tr>\n",
       "      <th rowspan=\"3\" valign=\"top\">Adelie</th>\n",
       "      <th>Biscoe</th>\n",
       "      <td>38.98</td>\n",
       "      <td>18.37</td>\n",
       "      <td>188.80</td>\n",
       "      <td>3709.66</td>\n",
       "    </tr>\n",
       "    <tr>\n",
       "      <th>Dream</th>\n",
       "      <td>38.52</td>\n",
       "      <td>18.24</td>\n",
       "      <td>189.93</td>\n",
       "      <td>3701.36</td>\n",
       "    </tr>\n",
       "    <tr>\n",
       "      <th>Torgersen</th>\n",
       "      <td>39.04</td>\n",
       "      <td>18.45</td>\n",
       "      <td>191.53</td>\n",
       "      <td>3708.51</td>\n",
       "    </tr>\n",
       "  </tbody>\n",
       "</table>\n",
       "</div>"
      ],
      "text/plain": [
       "                   bill_length_mm  bill_depth_mm  flipper_length_mm  \\\n",
       "species island                                                        \n",
       "Adelie  Biscoe              38.98          18.37             188.80   \n",
       "        Dream               38.52          18.24             189.93   \n",
       "        Torgersen           39.04          18.45             191.53   \n",
       "\n",
       "                   body_mass_g  \n",
       "species island                  \n",
       "Adelie  Biscoe         3709.66  \n",
       "        Dream          3701.36  \n",
       "        Torgersen      3708.51  "
      ]
     },
     "execution_count": 3,
     "metadata": {},
     "output_type": "execute_result"
    }
   ],
   "source": [
    "# 2. Die Merkmale der Adelie Pinguine hängen von der Insel ab. \n",
    "penguins.groupby([\"species\", \"island\"]).mean().round(2).iloc[0:3, 0:4]"
   ]
  },
  {
   "cell_type": "code",
   "execution_count": 4,
   "metadata": {},
   "outputs": [
    {
     "data": {
      "text/plain": [
       "body_mass_g    AxesSubplot(0.125,0.125;0.775x0.755)\n",
       "dtype: object"
      ]
     },
     "execution_count": 4,
     "metadata": {},
     "output_type": "execute_result"
    },
    {
     "data": {
      "image/png": "[encoded data removed]",
      "text/plain": [
       "<Figure size 432x288 with 1 Axes>"
      ]
     },
     "metadata": {
      "needs_background": "light"
     },
     "output_type": "display_data"
    },
    {
     "data": {
      "image/png": "[encoded data removed]",
      "text/plain": [
       "<Figure size 432x288 with 1 Axes>"
      ]
     },
     "metadata": {
      "needs_background": "light"
     },
     "output_type": "display_data"
    },
    {
     "data": {
      "image/png": "[encoded data removed]",
      "text/plain": [
       "<Figure size 432x288 with 1 Axes>"
      ]
     },
     "metadata": {
      "needs_background": "light"
     },
     "output_type": "display_data"
    },
    {
     "data": {
      "image/png": "[encoded data removed]",
      "text/plain": [
       "<Figure size 432x288 with 1 Axes>"
      ]
     },
     "metadata": {
      "needs_background": "light"
     },
     "output_type": "display_data"
    }
   ],
   "source": [
    "penguins[penguins[\"species\"] == \"Adelie\"].plot.box(vert=False, column=\"bill_length_mm\", by=[\"island\"])\n",
    "penguins[penguins[\"species\"] == \"Adelie\"].plot.box(vert=False, column=\"bill_depth_mm\", by=[\"island\"])\n",
    "penguins[penguins[\"species\"] == \"Adelie\"].plot.box(vert=False, column=\"flipper_length_mm\", by=[\"island\"])\n",
    "penguins[penguins[\"species\"] == \"Adelie\"].plot.box(vert=False, column=\"body_mass_g\", by=[\"island\"])"
   ]
  },
  {
   "cell_type": "code",
   "execution_count": 5,
   "metadata": {},
   "outputs": [
    {
     "data": {
      "image/png": "[encoded data removed]",
      "text/plain": [
       "<Figure size 432x288 with 1 Axes>"
      ]
     },
     "metadata": {
      "needs_background": "light"
     },
     "output_type": "display_data"
    }
   ],
   "source": [
    "# 3. Die Schnabellänge hängt von der Schnabeltiefe ab.\n",
    "scatterWithLine(\"bill_length_mm\", \"bill_depth_mm\")"
   ]
  },
  {
   "cell_type": "code",
   "execution_count": 6,
   "metadata": {},
   "outputs": [
    {
     "data": {
      "image/png": "[encoded data removed]",
      "text/plain": [
       "<Figure size 432x288 with 1 Axes>"
      ]
     },
     "metadata": {
      "needs_background": "light"
     },
     "output_type": "display_data"
    }
   ],
   "source": [
    "# 4. Die Länge der Schwimmflossen hängen von dem Gewicht ab.\n",
    "scatterWithLine(\"flipper_length_mm\", \"body_mass_g\")"
   ]
  },
  {
   "cell_type": "code",
   "execution_count": 7,
   "metadata": {},
   "outputs": [
    {
     "data": {
      "text/html": [
       "<div>\n",
       "<style scoped>\n",
       "    .dataframe tbody tr th:only-of-type {\n",
       "        vertical-align: middle;\n",
       "    }\n",
       "\n",
       "    .dataframe tbody tr th {\n",
       "        vertical-align: top;\n",
       "    }\n",
       "\n",
       "    .dataframe thead th {\n",
       "        text-align: right;\n",
       "    }\n",
       "</style>\n",
       "<table border=\"1\" class=\"dataframe\">\n",
       "  <thead>\n",
       "    <tr style=\"text-align: right;\">\n",
       "      <th></th>\n",
       "      <th>island</th>\n",
       "      <th>bill_length_mm</th>\n",
       "      <th>bill_depth_mm</th>\n",
       "      <th>flipper_length_mm</th>\n",
       "      <th>body_mass_g</th>\n",
       "      <th>sex</th>\n",
       "      <th>year</th>\n",
       "    </tr>\n",
       "    <tr>\n",
       "      <th>species</th>\n",
       "      <th></th>\n",
       "      <th></th>\n",
       "      <th></th>\n",
       "      <th></th>\n",
       "      <th></th>\n",
       "      <th></th>\n",
       "      <th></th>\n",
       "    </tr>\n",
       "  </thead>\n",
       "  <tbody>\n",
       "    <tr>\n",
       "      <th>Adelie</th>\n",
       "      <td>Biscoe</td>\n",
       "      <td>32.1</td>\n",
       "      <td>15.5</td>\n",
       "      <td>172.0</td>\n",
       "      <td>2850.0</td>\n",
       "      <td>female</td>\n",
       "      <td>2007</td>\n",
       "    </tr>\n",
       "    <tr>\n",
       "      <th>Chinstrap</th>\n",
       "      <td>Dream</td>\n",
       "      <td>40.9</td>\n",
       "      <td>16.4</td>\n",
       "      <td>178.0</td>\n",
       "      <td>2700.0</td>\n",
       "      <td>female</td>\n",
       "      <td>2007</td>\n",
       "    </tr>\n",
       "    <tr>\n",
       "      <th>Gentoo</th>\n",
       "      <td>Biscoe</td>\n",
       "      <td>40.9</td>\n",
       "      <td>13.1</td>\n",
       "      <td>203.0</td>\n",
       "      <td>3950.0</td>\n",
       "      <td>female</td>\n",
       "      <td>2007</td>\n",
       "    </tr>\n",
       "  </tbody>\n",
       "</table>\n",
       "</div>"
      ],
      "text/plain": [
       "           island  bill_length_mm  bill_depth_mm  flipper_length_mm  \\\n",
       "species                                                               \n",
       "Adelie     Biscoe            32.1           15.5              172.0   \n",
       "Chinstrap   Dream            40.9           16.4              178.0   \n",
       "Gentoo     Biscoe            40.9           13.1              203.0   \n",
       "\n",
       "           body_mass_g     sex  year  \n",
       "species                               \n",
       "Adelie          2850.0  female  2007  \n",
       "Chinstrap       2700.0  female  2007  \n",
       "Gentoo          3950.0  female  2007  "
      ]
     },
     "execution_count": 7,
     "metadata": {},
     "output_type": "execute_result"
    },
    {
     "data": {
      "image/png": "[encoded data removed]",
      "text/plain": [
       "<Figure size 720x360 with 1 Axes>"
      ]
     },
     "metadata": {
      "needs_background": "light"
     },
     "output_type": "display_data"
    }
   ],
   "source": [
    "# 5. Wenn das Gewicht kleiner als 3900 gramm ist, dann handelt es sich nicht um die Spezies Gentoo\n",
    "penguins.plot.box(vert=False, column=\"body_mass_g\", by=\"species\", figsize=(10,5))\n",
    "\n",
    "penguins.groupby(\"species\").min()"
   ]
  },
  {
   "cell_type": "code",
   "execution_count": 12,
   "metadata": {},
   "outputs": [
    {
     "data": {
      "text/plain": [
       "body_mass_g    AxesSubplot(0.125,0.125;0.775x0.755)\n",
       "dtype: object"
      ]
     },
     "execution_count": 12,
     "metadata": {},
     "output_type": "execute_result"
    },
    {
     "data": {
      "image/png": "[encoded data removed]",
      "text/plain": [
       "<Figure size 720x360 with 1 Axes>"
      ]
     },
     "metadata": {
      "needs_background": "light"
     },
     "output_type": "display_data"
    },
    {
     "data": {
      "image/png": "[encoded data removed]",
      "text/plain": [
       "<Figure size 720x360 with 1 Axes>"
      ]
     },
     "metadata": {
      "needs_background": "light"
     },
     "output_type": "display_data"
    },
    {
     "data": {
      "image/png": "[encoded data removed]",
      "text/plain": [
       "<Figure size 720x360 with 1 Axes>"
      ]
     },
     "metadata": {
      "needs_background": "light"
     },
     "output_type": "display_data"
    },
    {
     "data": {
      "image/png": "[encoded data removed]",
      "text/plain": [
       "<Figure size 720x360 with 1 Axes>"
      ]
     },
     "metadata": {
      "needs_background": "light"
     },
     "output_type": "display_data"
    }
   ],
   "source": [
    "# 6. Jede Insel hat in mindestens einem Merkmal genau einen Ausreißer.\n",
    "penguins.plot.box(vert=False, column=\"bill_length_mm\", by=\"island\", figsize=(10,5))\n",
    "penguins.plot.box(vert=False, column=\"bill_depth_mm\", by=\"island\", figsize=(10,5))\n",
    "penguins.plot.box(vert=False, column=\"flipper_length_mm\", by=\"island\", figsize=(10,5))\n",
    "penguins.plot.box(vert=False, column=\"body_mass_g\", by=\"island\", figsize=(10,5))"
   ]
  },
  {
   "cell_type": "code",
   "execution_count": 9,
   "metadata": {},
   "outputs": [
    {
     "data": {
      "text/html": [
       "<div>\n",
       "<style scoped>\n",
       "    .dataframe tbody tr th:only-of-type {\n",
       "        vertical-align: middle;\n",
       "    }\n",
       "\n",
       "    .dataframe tbody tr th {\n",
       "        vertical-align: top;\n",
       "    }\n",
       "\n",
       "    .dataframe thead tr th {\n",
       "        text-align: left;\n",
       "    }\n",
       "\n",
       "    .dataframe thead tr:last-of-type th {\n",
       "        text-align: right;\n",
       "    }\n",
       "</style>\n",
       "<table border=\"1\" class=\"dataframe\">\n",
       "  <thead>\n",
       "    <tr>\n",
       "      <th></th>\n",
       "      <th colspan=\"8\" halign=\"left\">bill_length_mm</th>\n",
       "      <th colspan=\"2\" halign=\"left\">bill_depth_mm</th>\n",
       "      <th>...</th>\n",
       "      <th colspan=\"2\" halign=\"left\">body_mass_g</th>\n",
       "      <th colspan=\"8\" halign=\"left\">year</th>\n",
       "    </tr>\n",
       "    <tr>\n",
       "      <th></th>\n",
       "      <th>count</th>\n",
       "      <th>mean</th>\n",
       "      <th>std</th>\n",
       "      <th>min</th>\n",
       "      <th>25%</th>\n",
       "      <th>50%</th>\n",
       "      <th>75%</th>\n",
       "      <th>max</th>\n",
       "      <th>count</th>\n",
       "      <th>mean</th>\n",
       "      <th>...</th>\n",
       "      <th>75%</th>\n",
       "      <th>max</th>\n",
       "      <th>count</th>\n",
       "      <th>mean</th>\n",
       "      <th>std</th>\n",
       "      <th>min</th>\n",
       "      <th>25%</th>\n",
       "      <th>50%</th>\n",
       "      <th>75%</th>\n",
       "      <th>max</th>\n",
       "    </tr>\n",
       "    <tr>\n",
       "      <th>sex</th>\n",
       "      <th></th>\n",
       "      <th></th>\n",
       "      <th></th>\n",
       "      <th></th>\n",
       "      <th></th>\n",
       "      <th></th>\n",
       "      <th></th>\n",
       "      <th></th>\n",
       "      <th></th>\n",
       "      <th></th>\n",
       "      <th></th>\n",
       "      <th></th>\n",
       "      <th></th>\n",
       "      <th></th>\n",
       "      <th></th>\n",
       "      <th></th>\n",
       "      <th></th>\n",
       "      <th></th>\n",
       "      <th></th>\n",
       "      <th></th>\n",
       "      <th></th>\n",
       "    </tr>\n",
       "  </thead>\n",
       "  <tbody>\n",
       "    <tr>\n",
       "      <th>female</th>\n",
       "      <td>165.0</td>\n",
       "      <td>42.10</td>\n",
       "      <td>4.90</td>\n",
       "      <td>32.1</td>\n",
       "      <td>37.60</td>\n",
       "      <td>42.8</td>\n",
       "      <td>46.20</td>\n",
       "      <td>58.0</td>\n",
       "      <td>165.0</td>\n",
       "      <td>16.43</td>\n",
       "      <td>...</td>\n",
       "      <td>4550.0</td>\n",
       "      <td>5200.0</td>\n",
       "      <td>165.0</td>\n",
       "      <td>2008.04</td>\n",
       "      <td>0.81</td>\n",
       "      <td>2007.0</td>\n",
       "      <td>2007.0</td>\n",
       "      <td>2008.0</td>\n",
       "      <td>2009.0</td>\n",
       "      <td>2009.0</td>\n",
       "    </tr>\n",
       "    <tr>\n",
       "      <th>male</th>\n",
       "      <td>168.0</td>\n",
       "      <td>45.85</td>\n",
       "      <td>5.37</td>\n",
       "      <td>34.6</td>\n",
       "      <td>40.98</td>\n",
       "      <td>46.8</td>\n",
       "      <td>50.32</td>\n",
       "      <td>59.6</td>\n",
       "      <td>168.0</td>\n",
       "      <td>17.89</td>\n",
       "      <td>...</td>\n",
       "      <td>5312.5</td>\n",
       "      <td>6300.0</td>\n",
       "      <td>168.0</td>\n",
       "      <td>2008.04</td>\n",
       "      <td>0.81</td>\n",
       "      <td>2007.0</td>\n",
       "      <td>2007.0</td>\n",
       "      <td>2008.0</td>\n",
       "      <td>2009.0</td>\n",
       "      <td>2009.0</td>\n",
       "    </tr>\n",
       "  </tbody>\n",
       "</table>\n",
       "<p>2 rows × 40 columns</p>\n",
       "</div>"
      ],
      "text/plain": [
       "       bill_length_mm                                               \\\n",
       "                count   mean   std   min    25%   50%    75%   max   \n",
       "sex                                                                  \n",
       "female          165.0  42.10  4.90  32.1  37.60  42.8  46.20  58.0   \n",
       "male            168.0  45.85  5.37  34.6  40.98  46.8  50.32  59.6   \n",
       "\n",
       "       bill_depth_mm         ... body_mass_g           year                 \\\n",
       "               count   mean  ...         75%     max  count     mean   std   \n",
       "sex                          ...                                             \n",
       "female         165.0  16.43  ...      4550.0  5200.0  165.0  2008.04  0.81   \n",
       "male           168.0  17.89  ...      5312.5  6300.0  168.0  2008.04  0.81   \n",
       "\n",
       "                                                \n",
       "           min     25%     50%     75%     max  \n",
       "sex                                             \n",
       "female  2007.0  2007.0  2008.0  2009.0  2009.0  \n",
       "male    2007.0  2007.0  2008.0  2009.0  2009.0  \n",
       "\n",
       "[2 rows x 40 columns]"
      ]
     },
     "execution_count": 9,
     "metadata": {},
     "output_type": "execute_result"
    }
   ],
   "source": [
    "penguins.groupby(\"sex\").describe().round(2)"
   ]
  },
  {
   "cell_type": "code",
   "execution_count": 10,
   "metadata": {},
   "outputs": [
    {
     "data": {
      "text/html": [
       "<div>\n",
       "<style scoped>\n",
       "    .dataframe tbody tr th:only-of-type {\n",
       "        vertical-align: middle;\n",
       "    }\n",
       "\n",
       "    .dataframe tbody tr th {\n",
       "        vertical-align: top;\n",
       "    }\n",
       "\n",
       "    .dataframe thead th {\n",
       "        text-align: right;\n",
       "    }\n",
       "</style>\n",
       "<table border=\"1\" class=\"dataframe\">\n",
       "  <thead>\n",
       "    <tr style=\"text-align: right;\">\n",
       "      <th></th>\n",
       "      <th>species</th>\n",
       "      <th>island</th>\n",
       "      <th>bill_length_mm</th>\n",
       "      <th>bill_depth_mm</th>\n",
       "      <th>flipper_length_mm</th>\n",
       "      <th>body_mass_g</th>\n",
       "      <th>sex</th>\n",
       "      <th>year</th>\n",
       "    </tr>\n",
       "  </thead>\n",
       "  <tbody>\n",
       "    <tr>\n",
       "      <th>0</th>\n",
       "      <td>Adelie</td>\n",
       "      <td>Torgersen</td>\n",
       "      <td>39.1</td>\n",
       "      <td>18.7</td>\n",
       "      <td>181.0</td>\n",
       "      <td>3750.0</td>\n",
       "      <td>male</td>\n",
       "      <td>2007</td>\n",
       "    </tr>\n",
       "    <tr>\n",
       "      <th>1</th>\n",
       "      <td>Adelie</td>\n",
       "      <td>Torgersen</td>\n",
       "      <td>39.5</td>\n",
       "      <td>17.4</td>\n",
       "      <td>186.0</td>\n",
       "      <td>3800.0</td>\n",
       "      <td>female</td>\n",
       "      <td>2007</td>\n",
       "    </tr>\n",
       "    <tr>\n",
       "      <th>2</th>\n",
       "      <td>Adelie</td>\n",
       "      <td>Torgersen</td>\n",
       "      <td>40.3</td>\n",
       "      <td>18.0</td>\n",
       "      <td>195.0</td>\n",
       "      <td>3250.0</td>\n",
       "      <td>female</td>\n",
       "      <td>2007</td>\n",
       "    </tr>\n",
       "    <tr>\n",
       "      <th>3</th>\n",
       "      <td>Adelie</td>\n",
       "      <td>Torgersen</td>\n",
       "      <td>36.7</td>\n",
       "      <td>19.3</td>\n",
       "      <td>193.0</td>\n",
       "      <td>3450.0</td>\n",
       "      <td>female</td>\n",
       "      <td>2007</td>\n",
       "    </tr>\n",
       "    <tr>\n",
       "      <th>4</th>\n",
       "      <td>Adelie</td>\n",
       "      <td>Torgersen</td>\n",
       "      <td>39.3</td>\n",
       "      <td>20.6</td>\n",
       "      <td>190.0</td>\n",
       "      <td>3650.0</td>\n",
       "      <td>male</td>\n",
       "      <td>2007</td>\n",
       "    </tr>\n",
       "    <tr>\n",
       "      <th>...</th>\n",
       "      <td>...</td>\n",
       "      <td>...</td>\n",
       "      <td>...</td>\n",
       "      <td>...</td>\n",
       "      <td>...</td>\n",
       "      <td>...</td>\n",
       "      <td>...</td>\n",
       "      <td>...</td>\n",
       "    </tr>\n",
       "    <tr>\n",
       "      <th>328</th>\n",
       "      <td>Chinstrap</td>\n",
       "      <td>Dream</td>\n",
       "      <td>55.8</td>\n",
       "      <td>19.8</td>\n",
       "      <td>207.0</td>\n",
       "      <td>4000.0</td>\n",
       "      <td>male</td>\n",
       "      <td>2009</td>\n",
       "    </tr>\n",
       "    <tr>\n",
       "      <th>329</th>\n",
       "      <td>Chinstrap</td>\n",
       "      <td>Dream</td>\n",
       "      <td>43.5</td>\n",
       "      <td>18.1</td>\n",
       "      <td>202.0</td>\n",
       "      <td>3400.0</td>\n",
       "      <td>female</td>\n",
       "      <td>2009</td>\n",
       "    </tr>\n",
       "    <tr>\n",
       "      <th>330</th>\n",
       "      <td>Chinstrap</td>\n",
       "      <td>Dream</td>\n",
       "      <td>49.6</td>\n",
       "      <td>18.2</td>\n",
       "      <td>193.0</td>\n",
       "      <td>3775.0</td>\n",
       "      <td>male</td>\n",
       "      <td>2009</td>\n",
       "    </tr>\n",
       "    <tr>\n",
       "      <th>331</th>\n",
       "      <td>Chinstrap</td>\n",
       "      <td>Dream</td>\n",
       "      <td>50.8</td>\n",
       "      <td>19.0</td>\n",
       "      <td>210.0</td>\n",
       "      <td>4100.0</td>\n",
       "      <td>male</td>\n",
       "      <td>2009</td>\n",
       "    </tr>\n",
       "    <tr>\n",
       "      <th>332</th>\n",
       "      <td>Chinstrap</td>\n",
       "      <td>Dream</td>\n",
       "      <td>50.2</td>\n",
       "      <td>18.7</td>\n",
       "      <td>198.0</td>\n",
       "      <td>3775.0</td>\n",
       "      <td>female</td>\n",
       "      <td>2009</td>\n",
       "    </tr>\n",
       "  </tbody>\n",
       "</table>\n",
       "<p>333 rows × 8 columns</p>\n",
       "</div>"
      ],
      "text/plain": [
       "       species     island  bill_length_mm  bill_depth_mm  flipper_length_mm  \\\n",
       "0       Adelie  Torgersen            39.1           18.7              181.0   \n",
       "1       Adelie  Torgersen            39.5           17.4              186.0   \n",
       "2       Adelie  Torgersen            40.3           18.0              195.0   \n",
       "3       Adelie  Torgersen            36.7           19.3              193.0   \n",
       "4       Adelie  Torgersen            39.3           20.6              190.0   \n",
       "..         ...        ...             ...            ...                ...   \n",
       "328  Chinstrap      Dream            55.8           19.8              207.0   \n",
       "329  Chinstrap      Dream            43.5           18.1              202.0   \n",
       "330  Chinstrap      Dream            49.6           18.2              193.0   \n",
       "331  Chinstrap      Dream            50.8           19.0              210.0   \n",
       "332  Chinstrap      Dream            50.2           18.7              198.0   \n",
       "\n",
       "     body_mass_g     sex  year  \n",
       "0         3750.0    male  2007  \n",
       "1         3800.0  female  2007  \n",
       "2         3250.0  female  2007  \n",
       "3         3450.0  female  2007  \n",
       "4         3650.0    male  2007  \n",
       "..           ...     ...   ...  \n",
       "328       4000.0    male  2009  \n",
       "329       3400.0  female  2009  \n",
       "330       3775.0    male  2009  \n",
       "331       4100.0    male  2009  \n",
       "332       3775.0  female  2009  \n",
       "\n",
       "[333 rows x 8 columns]"
      ]
     },
     "execution_count": 10,
     "metadata": {},
     "output_type": "execute_result"
    }
   ],
   "source": [
    "penguins"
   ]
  },
  {
   "cell_type": "code",
   "execution_count": 11,
   "metadata": {},
   "outputs": [
    {
     "name": "stderr",
     "output_type": "stream",
     "text": [
      "C:\\Users\\Jason\\AppData\\Local\\Temp\\ipykernel_19000\\3402526058.py:4: FutureWarning: Dropping of nuisance columns in DataFrame reductions (with 'numeric_only=None') is deprecated; in a future version this will raise TypeError.  Select only valid columns before calling the reduction.\n",
      "  penguins.mean()\n",
      "C:\\Users\\Jason\\AppData\\Local\\Temp\\ipykernel_19000\\3402526058.py:5: FutureWarning: Dropping of nuisance columns in DataFrame reductions (with 'numeric_only=None') is deprecated; in a future version this will raise TypeError.  Select only valid columns before calling the reduction.\n",
      "  penguins.std()\n"
     ]
    },
    {
     "data": {
      "text/plain": [
       "bill_length_mm         5.468668\n",
       "bill_depth_mm          1.969235\n",
       "flipper_length_mm     14.015765\n",
       "body_mass_g          805.215802\n",
       "year                   0.812944\n",
       "dtype: float64"
      ]
     },
     "execution_count": 11,
     "metadata": {},
     "output_type": "execute_result"
    }
   ],
   "source": [
    "# Übersicht für alle Pinguine\n",
    "penguins.min()\n",
    "penguins.max()\n",
    "penguins.mean()\n",
    "penguins.std()"
   ]
  }
 ],
 "metadata": {
  "kernelspec": {
   "display_name": "Python 3.10.4 64-bit",
   "language": "python",
   "name": "python3"
  },
  "language_info": {
   "codemirror_mode": {
    "name": "ipython",
    "version": 3
   },
   "file_extension": ".py",
   "mimetype": "text/x-python",
   "name": "python",
   "nbconvert_exporter": "python",
   "pygments_lexer": "ipython3",
   "version": "3.10.4"
  },
  "orig_nbformat": 4,
  "vscode": {
   "interpreter": {
    "hash": "c306639ee32d404791473069f00ec2af6b0839684311cd4cb9a429487a8699f9"
   }
  }
 },
 "nbformat": 4,
 "nbformat_minor": 2
}
